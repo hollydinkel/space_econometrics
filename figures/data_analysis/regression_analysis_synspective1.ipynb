{
 "cells": [
  {
   "cell_type": "code",
   "execution_count": 1,
   "metadata": {},
   "outputs": [
    {
     "name": "stdout",
     "output_type": "stream",
     "text": [
      "YEAR               int64\n",
      "Current Assets     int64\n",
      "Fixed Assets       int64\n",
      "Total Assets       int64\n",
      "Liabilities        int64\n",
      "Capital Stock      int64\n",
      "Capital Surplus    int64\n",
      "Net Income         int64\n",
      "dtype: object\n",
      "                            OLS Regression Results                            \n",
      "==============================================================================\n",
      "Dep. Variable:           Total Assets   R-squared:                       1.000\n",
      "Model:                            OLS   Adj. R-squared:                  0.999\n",
      "Method:                 Least Squares   F-statistic:                     1681.\n",
      "Date:                Thu, 22 Feb 2024   Prob (F-statistic):             0.0179\n",
      "Time:                        22:38:53   Log-Likelihood:                -60.220\n",
      "No. Observations:                   5   AIC:                             128.4\n",
      "Df Residuals:                       1   BIC:                             126.9\n",
      "Df Model:                           3                                         \n",
      "Covariance Type:            nonrobust                                         \n",
      "==================================================================================\n",
      "                     coef    std err          t      P>|t|      [0.025      0.975]\n",
      "----------------------------------------------------------------------------------\n",
      "const          -1.282e+05   1.17e+05     -1.095      0.471   -1.62e+06    1.36e+06\n",
      "Current Assets     1.0195      0.020     50.487      0.013       0.763       1.276\n",
      "Liabilities        1.2532      0.070     17.813      0.036       0.359       2.147\n",
      "Net Income        -0.0198      0.024     -0.837      0.556      -0.320       0.280\n",
      "==============================================================================\n",
      "Omnibus:                          nan   Durbin-Watson:                   2.800\n",
      "Prob(Omnibus):                    nan   Jarque-Bera (JB):                0.759\n",
      "Skew:                          -0.937   Prob(JB):                        0.684\n",
      "Kurtosis:                       2.636   Cond. No.                     2.39e+07\n",
      "==============================================================================\n",
      "\n",
      "Notes:\n",
      "[1] Standard Errors assume that the covariance matrix of the errors is correctly specified.\n",
      "[2] The condition number is large, 2.39e+07. This might indicate that there are\n",
      "strong multicollinearity or other numerical problems.\n"
     ]
    },
    {
     "name": "stderr",
     "output_type": "stream",
     "text": [
      "/var/folders/bq/tj0kw9n51ts4y49yghq9s7000000gn/T/ipykernel_8556/2108579329.py:14: SettingWithCopyWarning: \n",
      "A value is trying to be set on a copy of a slice from a DataFrame.\n",
      "Try using .loc[row_indexer,col_indexer] = value instead\n",
      "\n",
      "See the caveats in the documentation: https://pandas.pydata.org/pandas-docs/stable/user_guide/indexing.html#returning-a-view-versus-a-copy\n",
      "  X[X_name] = X[X_name].apply(pd.to_numeric, errors='coerce')\n",
      "/Library/Frameworks/Python.framework/Versions/3.10/lib/python3.10/site-packages/statsmodels/stats/stattools.py:74: ValueWarning: omni_normtest is not valid with less than 8 observations; 5 samples were given.\n",
      "  warn(\"omni_normtest is not valid with less than 8 observations; %i \"\n"
     ]
    }
   ],
   "source": [
    "import pandas as pd\n",
    "import statsmodels.api as sm\n",
    "\n",
    "df = pd.read_csv(\"/Users/shinten/Desktop/space_econometrics/figures/data/synspective_data.csv\")\n",
    "\n",
    "y_name = \"Total Assets\"\n",
    "X_name = [\"Current Assets\", \"Liabilities\", \"Net Income\"]\n",
    "\n",
    "X = df[X_name]\n",
    "y = df[y_name]\n",
    "\n",
    "print(df.dtypes)\n",
    "\n",
    "X[X_name] = X[X_name].apply(pd.to_numeric, errors='coerce')\n",
    "\n",
    "X = X.dropna()\n",
    "y = y[X.index]\n",
    "X = sm.add_constant(X)\n",
    "model = sm.OLS(y, X).fit()\n",
    "print(model.summary())"
   ]
  },
  {
   "cell_type": "code",
   "execution_count": null,
   "metadata": {},
   "outputs": [],
   "source": []
  },
  {
   "cell_type": "code",
   "execution_count": null,
   "metadata": {},
   "outputs": [],
   "source": []
  }
 ],
 "metadata": {
  "kernelspec": {
   "display_name": "Python 3",
   "language": "python",
   "name": "python3"
  },
  "language_info": {
   "codemirror_mode": {
    "name": "ipython",
    "version": 3
   },
   "file_extension": ".py",
   "mimetype": "text/x-python",
   "name": "python",
   "nbconvert_exporter": "python",
   "pygments_lexer": "ipython3",
   "version": "3.10.1"
  }
 },
 "nbformat": 4,
 "nbformat_minor": 2
}
